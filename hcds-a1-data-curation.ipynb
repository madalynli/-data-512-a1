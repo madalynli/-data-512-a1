{
 "cells": [
  {
   "cell_type": "markdown",
   "id": "d19e2095",
   "metadata": {},
   "source": [
    "# <center> DATA 512: A1 </center>\n",
    "<center>Madalyn Li <br>\n",
    "Fall 2021</center>"
   ]
  },
  {
   "cell_type": "markdown",
   "id": "e5a3fc08",
   "metadata": {},
   "source": [
    "This notebook provides detailed steps to acquire, process, and analyze the monthly desktop and mobile traffic data from the Wikimedia REST API."
   ]
  },
  {
   "cell_type": "code",
   "execution_count": 1,
   "id": "73e7d9f0",
   "metadata": {},
   "outputs": [],
   "source": [
    "import json\n",
    "import requests\n",
    "import pandas as pd\n",
    "import matplotlib.pyplot as plt"
   ]
  },
  {
   "cell_type": "markdown",
   "id": "0c5532eb",
   "metadata": {},
   "source": [
    "### 1. Acquiring Data\n",
    "\n",
    "In the first step, we want to obtain our data from the PageCounts and PageView API endpoints. The final data pull for this step will include 5 JSON source data files of monthly desktop and mobile traffic for each API.\n",
    "\n",
    "This following API sample code documentation was used as a reference: https://public.paws.wmcloud.org/User:Jtmorgan/data512_a1_example.ipynb"
   ]
  },
  {
   "cell_type": "code",
   "execution_count": 2,
   "id": "7b88c95f",
   "metadata": {},
   "outputs": [],
   "source": [
    "# Create API endpoints for Pagecounts and Pageviews\n",
    "\n",
    "endpoint_pagecounts = 'https://wikimedia.org/api/rest_v1/metrics/legacy/pagecounts/aggregate/{project}/{access}/{granularity}/{start}/{end}'\n",
    "\n",
    "endpoint_pageviews = 'https://wikimedia.org/api/rest_v1/metrics/pageviews/aggregate/{project}/{access}/{agent}/{granularity}/{start}/{end}'"
   ]
  },
  {
   "cell_type": "markdown",
   "id": "683faf67",
   "metadata": {},
   "source": [
    "**Selecting Parameters**<br>\n",
    "\n",
    "The parameters selected below are specific to the purpose of this data analysis project. Specifically, from the Legacy Pagecounts API, the traffic counts of mobile-site and desktop-site access starting from December 2007 to August 2021 were selected. From the Pageviews API, traffic counts of desktop, mobile-app, and mobile-web access starting from December 2007 to August 2021 were selected. <br>\n",
    "\n",
    "In addition, it is important to note that since the Pageview API includes traffic data for web crawlers and spiders, we have filtered *'agent = user'* to specify organic user traffic in our data pull. The Pagecount API, however, does not have this option to filter. "
   ]
  },
  {
   "cell_type": "code",
   "execution_count": 3,
   "id": "779a2dd4",
   "metadata": {},
   "outputs": [],
   "source": [
    "# Select parameters for each API query\n",
    "\n",
    "param_pagecounts_mobilesite = {\"project\" : \"en.wikipedia.org\",\n",
    "                 \"access\" : \"mobile-site\",\n",
    "                 \"granularity\" : \"monthly\",\n",
    "                 \"start\" : \"2007120100\",\n",
    "                 \"end\" : \"2021080100\"\n",
    "                    }\n",
    "\n",
    "param_pagecounts_desktopsite = {\"project\" : \"en.wikipedia.org\",\n",
    "                 \"access\" : \"desktop-site\",\n",
    "                 \"granularity\" : \"monthly\",\n",
    "                 \"start\" : \"2007120100\",\n",
    "                 \"end\" : \"2021080100\"\n",
    "                    }\n",
    "\n",
    "param_pageviews_desktop = {\"project\" : \"en.wikipedia.org\",\n",
    "                    \"access\" : \"desktop\",\n",
    "                    \"agent\" : \"user\",\n",
    "                    \"granularity\" : \"monthly\",\n",
    "                    \"start\" : \"2007120100\",\n",
    "                    \"end\" : '2021081000'\n",
    "                        }\n",
    "\n",
    "param_pageviews_mobileapp = {\"project\" : \"en.wikipedia.org\",\n",
    "                    \"access\" : \"mobile-app\",\n",
    "                    \"agent\" : \"user\",\n",
    "                    \"granularity\" : \"monthly\",\n",
    "                    \"start\" : \"2007120100\",\n",
    "                    \"end\" : '2021081000'\n",
    "                        }\n",
    "\n",
    "param_pageviews_mobileweb = {\"project\" : \"en.wikipedia.org\",\n",
    "                    \"access\" : \"mobile-web\",\n",
    "                    \"agent\" : \"user\",\n",
    "                    \"granularity\" : \"monthly\",\n",
    "                    \"start\" : \"2007120100\",\n",
    "                    \"end\" : '2021081000'\n",
    "                        }\n",
    "\n",
    "headers = {\n",
    "    'User-Agent': 'https://github.com/madalynli',\n",
    "    'From': 'mli2324@uw.edu'\n",
    "}"
   ]
  },
  {
   "cell_type": "code",
   "execution_count": 4,
   "id": "442d8d0c",
   "metadata": {},
   "outputs": [],
   "source": [
    "# Define function api_call to query API data to a list\n",
    "\n",
    "def api_call(endpoint,parameters):\n",
    "    call = requests.get(endpoint.format(**parameters), headers=headers)\n",
    "    response = call.json()\n",
    "    \n",
    "    return response"
   ]
  },
  {
   "cell_type": "code",
   "execution_count": 5,
   "id": "801a8156",
   "metadata": {},
   "outputs": [],
   "source": [
    "# Create API list for each API name and access type using api_call function\n",
    "\n",
    "pagecounts_mobilesite = api_call(endpoint_pagecounts, param_pagecounts_mobilesite)\n",
    "pagecounts_desktopsite = api_call(endpoint_pagecounts, param_pagecounts_desktopsite)\n",
    "pageviews_desktop = api_call(endpoint_pageviews, param_pageviews_desktop)\n",
    "pageviews_mobileapp = api_call(endpoint_pageviews, param_pageviews_mobileapp)\n",
    "pageviews_mobileweb = api_call(endpoint_pageviews, param_pageviews_mobileweb)"
   ]
  },
  {
   "cell_type": "markdown",
   "id": "9ed11c3b",
   "metadata": {},
   "source": [
    "**Saving JSON files** <br>\n",
    "\n",
    "In this step, the API queries are saved as JSON files following the standard naming convention: *apiname_accesstype_firstmonth-lastmonth.json*.\n",
    "\n",
    "The following JSON documentation provided by Kite was used for reference: <br>https://www.kite.com/python/docs/json.dump"
   ]
  },
  {
   "cell_type": "code",
   "execution_count": 6,
   "id": "38679656",
   "metadata": {},
   "outputs": [],
   "source": [
    "# Save API lists to JSON files with the specified naming convention\n",
    "\n",
    "json.dump(pagecounts_mobilesite, open(\"pagecounts_mobile-site_200712-202108.json\", \"w\"))\n",
    "json.dump(pagecounts_desktopsite, open(\"pagecounts_desktop-site_200712-202108.json\", \"w\"))\n",
    "json.dump(pageviews_desktop, open(\"pageviews_desktop_200712-202108.json\", \"w\"))\n",
    "json.dump(pageviews_mobileapp, open(\"pageviews_mobile-app_200712-202108.json\", \"w\"))\n",
    "json.dump(pageviews_mobileweb, open(\"pageviews_mobile-web_200712-202108.json\", \"w\"))"
   ]
  },
  {
   "cell_type": "markdown",
   "id": "d0ee8a67",
   "metadata": {},
   "source": [
    "### 2. Processing Data\n",
    "\n",
    "After we have acquired our data source, the next step is to clean and process the data to prepare it for analysis. The goal for this section is to produce a csv file that:\n",
    "\n",
    "- Combines mobile app and mobile web traffic values from the Pageview API.\n",
    "- Separates the value of timestamp to year and month.\n",
    "- Replaces all null count values to 0.\n",
    "- Formats the data to include the following headers: year, month, pagecount_all_views, pagecount_desktop_views, pagecount_mobile_views, pageview_all_views, pageview_desktop_views, pageview_mobile_views."
   ]
  },
  {
   "cell_type": "markdown",
   "id": "baf67b5d",
   "metadata": {},
   "source": [
    "**Converting API queries to a DataFrame**<br>\n",
    "\n",
    "In order to easily manipulate and clean the data, the API query list should be converted to a Data Frame. The code below creates a blank default list named *data* and parses through the specified key values in the 5 API lists and then appends those values to the new single list *data*. Next the list is converted to a Data Frame using pandas.\n",
    "\n",
    "The following article written by Alexandra Yanina was used for reference:<br>\n",
    "https://towardsdatascience.com/query-apis-with-json-output-in-python-5e16182a9df"
   ]
  },
  {
   "cell_type": "code",
   "execution_count": 7,
   "id": "434e0cb0",
   "metadata": {},
   "outputs": [],
   "source": [
    "# Appends all API lists to one single list name data\n",
    "\n",
    "data = []\n",
    "for response in pagecounts_mobilesite['items']:  \n",
    "    data.append({\n",
    "        \"access\": response.get('access-site'),\n",
    "        \"timestamp\": response.get('timestamp'),\n",
    "        \"count\": response.get('count')   \n",
    "    })\n",
    "\n",
    "for response in pagecounts_desktopsite['items']:  \n",
    "    data.append({\n",
    "        \"access\": response.get('access-site'),\n",
    "        \"timestamp\": response.get('timestamp'),\n",
    "        \"count\": response.get('count')   \n",
    "    })\n",
    "    \n",
    "for response in pageviews_desktop['items']:  \n",
    "    data.append({\n",
    "        \"access\": response.get('access'),\n",
    "        \"timestamp\": response.get('timestamp'),\n",
    "        \"count\": response.get('views')   \n",
    "    })\n",
    "    \n",
    "for response in pageviews_mobileapp['items']:  \n",
    "    data.append({\n",
    "        \"access\": response.get('access'),\n",
    "        \"timestamp\": response.get('timestamp'),\n",
    "        \"count\": response.get('views')   \n",
    "    })\n",
    "    \n",
    "for response in pageviews_mobileweb['items']:  \n",
    "    data.append({\n",
    "        \"access\": response.get('access'),\n",
    "        \"timestamp\": response.get('timestamp'),\n",
    "        \"count\": response.get('views')   \n",
    "    })"
   ]
  },
  {
   "cell_type": "code",
   "execution_count": 8,
   "id": "368bc87c",
   "metadata": {},
   "outputs": [],
   "source": [
    "# Convert appended list into a DataFrame\n",
    "\n",
    "df = pd.DataFrame(data)"
   ]
  },
  {
   "cell_type": "markdown",
   "id": "f66f0514",
   "metadata": {},
   "source": [
    "**Combining mobile app and mobile web traffic values**<br>\n",
    "\n",
    "The code below combines the mobile-app and mobile-web traffic data in the Pageview API by replacing the access type values to *'pageview_mobile_views'*. This step skips combining the count values of both access types since in a later step below, the data will be converted to a pivot table which will automatically sum the values. "
   ]
  },
  {
   "cell_type": "code",
   "execution_count": 9,
   "id": "c2e2a611",
   "metadata": {},
   "outputs": [],
   "source": [
    "# Combine mobile-app and mobile-web traffic data\n",
    "\n",
    "df[\"access\"].replace({\"mobile-app\": \"pageview_mobile_views\", \"mobile-web\": \"pageview_mobile_views\"}, inplace=True)"
   ]
  },
  {
   "cell_type": "markdown",
   "id": "d5c6c6e0",
   "metadata": {},
   "source": [
    "**Renaming Access Types**\n",
    "\n",
    "Similar to the previous step above, this line of code below renames the values of the other access types to the more standard format of: *apiname_access-type*."
   ]
  },
  {
   "cell_type": "code",
   "execution_count": 10,
   "id": "a81bd58f",
   "metadata": {},
   "outputs": [],
   "source": [
    "# Rename access type values to standardized format\n",
    "\n",
    "df[\"access\"].replace({\"mobile-site\": \"pagecount_mobile_views\", \"desktop-site\": \"pagecount_desktop_views\", \"desktop\": \"pageview_desktop_views\"}, inplace=True)"
   ]
  },
  {
   "cell_type": "markdown",
   "id": "c392292e",
   "metadata": {},
   "source": [
    "**Separating Timestamp Values**<br>\n",
    "\n",
    "In some cases, the timestamp value format varies and can be different than what is shown here. For this instance though, I have selected a substring of the timestamp value to obtain the year and month values since I know the exact positioning of these values and the fomrat is consistent throughout. The code below adds additional columns for the year and month which are derived from slicing the timestamp as a string. "
   ]
  },
  {
   "cell_type": "code",
   "execution_count": 11,
   "id": "8b127afb",
   "metadata": {},
   "outputs": [],
   "source": [
    "# Create new year and month columns by slicing the timestamp string\n",
    "\n",
    "df['year'] = df['timestamp'].str.slice(0,4)\n",
    "\n",
    "df['month'] = df['timestamp'].str.slice(4,6)"
   ]
  },
  {
   "cell_type": "markdown",
   "id": "38a826c1",
   "metadata": {},
   "source": [
    "**Creating a Pivot Table**\n",
    "\n",
    "The code below creates a new data frame with the pivot table function that formats the data to the view we want. The pivot table transforms the access type values to columns, indexes by year and month, and sums the total count values.\n",
    "\n",
    "The following documentation provivided by Pandas was used as reference:<br>\n",
    "https://pandas.pydata.org/docs/reference/api/pandas.pivot_table.html"
   ]
  },
  {
   "cell_type": "code",
   "execution_count": 12,
   "id": "7b8de6c9",
   "metadata": {},
   "outputs": [],
   "source": [
    "# Create a pivot table with the data frame\n",
    "\n",
    "df_pivot = df.pivot_table(values = 'count', columns = ['access'], index = ['year','month']).reset_index()"
   ]
  },
  {
   "cell_type": "markdown",
   "id": "0706067e",
   "metadata": {},
   "source": [
    "**Replacing Null Values**\n",
    "\n",
    "Since the original dataset includes null values for the years that data is not available, I replaced these values with a 0 value below."
   ]
  },
  {
   "cell_type": "code",
   "execution_count": 13,
   "id": "3393a373",
   "metadata": {},
   "outputs": [],
   "source": [
    "# Replace all null values in the data frame with 0\n",
    "\n",
    "df_pivot = df_pivot.fillna(0)"
   ]
  },
  {
   "cell_type": "markdown",
   "id": "253f727a",
   "metadata": {},
   "source": [
    "**Adding and Sorting Headers**\n",
    "\n",
    "Since the final format of our table includes an all_views column for each API, I summed their respective count values (both desktop and mobile) for each API.\n",
    "\n",
    "Next, I re-sorted the headers into the format and order I want to see them displayed in. The data frame is now cleaned and ready to be analyzed!\n",
    "\n",
    "The following JSON documentation provided by Kite was used for reference:<br>\n",
    "https://www.kite.com/python/answers/how-to-reorder-columns-in-a-pandas-dataframe-in-python"
   ]
  },
  {
   "cell_type": "code",
   "execution_count": 14,
   "id": "3168e780",
   "metadata": {},
   "outputs": [],
   "source": [
    "# Create all_views columns for each API by adding their respective count values\n",
    "\n",
    "df_pivot['pagecount_all_views'] = df_pivot['pagecount_desktop_views'] + df_pivot['pagecount_mobile_views']\n",
    "df_pivot['pageview_all_views'] = df_pivot['pageview_desktop_views'] + df_pivot['pageview_mobile_views']\n",
    "\n",
    "# Reorder headers\n",
    "\n",
    "df_pivot = df_pivot[['year', 'month', 'pagecount_all_views', 'pagecount_desktop_views', 'pagecount_mobile_views', 'pageview_all_views', 'pageview_desktop_views', 'pageview_mobile_views']]"
   ]
  },
  {
   "cell_type": "markdown",
   "id": "22056dd6",
   "metadata": {},
   "source": [
    "**Saving Final Data File**\n",
    "\n",
    "Finally, in this step, I save the final cleaned data file as a CSV with the appropriate naming format."
   ]
  },
  {
   "cell_type": "code",
   "execution_count": 15,
   "id": "88f4ed3f",
   "metadata": {},
   "outputs": [],
   "source": [
    "# Save cleaned data to a CSV file\n",
    "\n",
    "df_pivot.to_csv('en-wikipedia_traffic_200712-202108.csv')"
   ]
  },
  {
   "cell_type": "markdown",
   "id": "e63a4362",
   "metadata": {},
   "source": [
    "**Preview of Cleaned Data**\n",
    "\n",
    "Below is a preview of what our final cleaned data set looks like."
   ]
  },
  {
   "cell_type": "code",
   "execution_count": 16,
   "id": "4e7eb15e",
   "metadata": {},
   "outputs": [
    {
     "data": {
      "text/html": [
       "<div>\n",
       "<style scoped>\n",
       "    .dataframe tbody tr th:only-of-type {\n",
       "        vertical-align: middle;\n",
       "    }\n",
       "\n",
       "    .dataframe tbody tr th {\n",
       "        vertical-align: top;\n",
       "    }\n",
       "\n",
       "    .dataframe thead th {\n",
       "        text-align: right;\n",
       "    }\n",
       "</style>\n",
       "<table border=\"1\" class=\"dataframe\">\n",
       "  <thead>\n",
       "    <tr style=\"text-align: right;\">\n",
       "      <th>access</th>\n",
       "      <th>year</th>\n",
       "      <th>month</th>\n",
       "      <th>pagecount_all_views</th>\n",
       "      <th>pagecount_desktop_views</th>\n",
       "      <th>pagecount_mobile_views</th>\n",
       "      <th>pageview_all_views</th>\n",
       "      <th>pageview_desktop_views</th>\n",
       "      <th>pageview_mobile_views</th>\n",
       "    </tr>\n",
       "  </thead>\n",
       "  <tbody>\n",
       "    <tr>\n",
       "      <th>0</th>\n",
       "      <td>2007</td>\n",
       "      <td>12</td>\n",
       "      <td>2.998332e+09</td>\n",
       "      <td>2.998332e+09</td>\n",
       "      <td>0.0</td>\n",
       "      <td>0.0</td>\n",
       "      <td>0.0</td>\n",
       "      <td>0.0</td>\n",
       "    </tr>\n",
       "    <tr>\n",
       "      <th>1</th>\n",
       "      <td>2008</td>\n",
       "      <td>01</td>\n",
       "      <td>4.930903e+09</td>\n",
       "      <td>4.930903e+09</td>\n",
       "      <td>0.0</td>\n",
       "      <td>0.0</td>\n",
       "      <td>0.0</td>\n",
       "      <td>0.0</td>\n",
       "    </tr>\n",
       "    <tr>\n",
       "      <th>2</th>\n",
       "      <td>2008</td>\n",
       "      <td>02</td>\n",
       "      <td>4.818394e+09</td>\n",
       "      <td>4.818394e+09</td>\n",
       "      <td>0.0</td>\n",
       "      <td>0.0</td>\n",
       "      <td>0.0</td>\n",
       "      <td>0.0</td>\n",
       "    </tr>\n",
       "    <tr>\n",
       "      <th>3</th>\n",
       "      <td>2008</td>\n",
       "      <td>03</td>\n",
       "      <td>4.955406e+09</td>\n",
       "      <td>4.955406e+09</td>\n",
       "      <td>0.0</td>\n",
       "      <td>0.0</td>\n",
       "      <td>0.0</td>\n",
       "      <td>0.0</td>\n",
       "    </tr>\n",
       "    <tr>\n",
       "      <th>4</th>\n",
       "      <td>2008</td>\n",
       "      <td>04</td>\n",
       "      <td>5.159162e+09</td>\n",
       "      <td>5.159162e+09</td>\n",
       "      <td>0.0</td>\n",
       "      <td>0.0</td>\n",
       "      <td>0.0</td>\n",
       "      <td>0.0</td>\n",
       "    </tr>\n",
       "  </tbody>\n",
       "</table>\n",
       "</div>"
      ],
      "text/plain": [
       "access  year month  pagecount_all_views  pagecount_desktop_views  \\\n",
       "0       2007    12         2.998332e+09             2.998332e+09   \n",
       "1       2008    01         4.930903e+09             4.930903e+09   \n",
       "2       2008    02         4.818394e+09             4.818394e+09   \n",
       "3       2008    03         4.955406e+09             4.955406e+09   \n",
       "4       2008    04         5.159162e+09             5.159162e+09   \n",
       "\n",
       "access  pagecount_mobile_views  pageview_all_views  pageview_desktop_views  \\\n",
       "0                          0.0                 0.0                     0.0   \n",
       "1                          0.0                 0.0                     0.0   \n",
       "2                          0.0                 0.0                     0.0   \n",
       "3                          0.0                 0.0                     0.0   \n",
       "4                          0.0                 0.0                     0.0   \n",
       "\n",
       "access  pageview_mobile_views  \n",
       "0                         0.0  \n",
       "1                         0.0  \n",
       "2                         0.0  \n",
       "3                         0.0  \n",
       "4                         0.0  "
      ]
     },
     "execution_count": 16,
     "metadata": {},
     "output_type": "execute_result"
    }
   ],
   "source": [
    "# Display the first five rows of the final data set\n",
    "\n",
    "df_pivot.head()"
   ]
  },
  {
   "cell_type": "markdown",
   "id": "ba349bf2",
   "metadata": {},
   "source": [
    "### 3. Analyzing Data\n",
    "\n",
    "Now that we have our clean data file, we can finally proceed with the data analysis. In particular, we want to create a time series graph of total desktop, mobile, and overall traffic during the overlapping years that data was available on both APIs. Below are the additional steps taken to adjust the data to prepare it for plotting and finally the steps to  graph the dataset for visualization purposes. "
   ]
  },
  {
   "cell_type": "markdown",
   "id": "af6198ca",
   "metadata": {},
   "source": [
    "**Reformatting the date column**\n",
    "\n",
    "In the code below, the year and month columns are combined and reformatted. Doing this makes labeling the x-axis in the graph easier since both values are lumped into just one value containing all the information. To implement this, I concatenated both values with a dash in between."
   ]
  },
  {
   "cell_type": "code",
   "execution_count": 17,
   "id": "9be3baa3",
   "metadata": {},
   "outputs": [],
   "source": [
    "# Create a year-month column that concatenates the year and month values\n",
    "\n",
    "df_pivot['year-month'] = df_pivot['year'] + \"-\" + df_pivot['month']"
   ]
  },
  {
   "cell_type": "markdown",
   "id": "43012643",
   "metadata": {},
   "source": [
    "**Filtering to Months where all traffic data is Available**\n",
    "\n",
    "Since all traffic data is not always available on certain years, I decided to filter these values out since they may skew the final result and display a lower total number than usual. To implement this, I filtered the data frame by using the *and* operator to select all access-type columns where the traffic data was not equal to 0. "
   ]
  },
  {
   "cell_type": "code",
   "execution_count": 18,
   "id": "c2aaf436",
   "metadata": {},
   "outputs": [],
   "source": [
    "# Filter to where all traffic data counts do not equal to 0\n",
    "\n",
    "df_pivot = df_pivot[(df_pivot['pagecount_mobile_views'] != 0) & (df_pivot['pageview_mobile_views'] != 0) & (df_pivot['pagecount_desktop_views'] != 0) & (df_pivot['pageview_desktop_views'] != 0)]"
   ]
  },
  {
   "cell_type": "markdown",
   "id": "e24d689d",
   "metadata": {},
   "source": [
    "**Adding and Sorting Headers**\n",
    "\n",
    "Since we were asked to plot the cumulative mobile, desktop, and overall traffic data, the code below creates new columns for these values and sums up their total values using the respective existing columns to calculate the values.\n",
    "\n",
    "Finally, I reordered and reorganized the headers into the format and columns I want to see displayed in the final graph. "
   ]
  },
  {
   "cell_type": "code",
   "execution_count": 19,
   "id": "308c327e",
   "metadata": {},
   "outputs": [],
   "source": [
    "# Create cumulative columns for mobile, desktop, and all traffic\n",
    "\n",
    "df_pivot['mobile_traffic'] = df_pivot['pagecount_mobile_views'] + df_pivot['pageview_mobile_views']\n",
    "df_pivot['desktop_traffic'] = df_pivot['pagecount_desktop_views'] + df_pivot['pageview_desktop_views']\n",
    "df_pivot['all_traffic'] = df_pivot['mobile_traffic'] + df_pivot['desktop_traffic']\n",
    "\n",
    "# Reorder headers\n",
    "\n",
    "df_pivot = df_pivot[['year-month', 'mobile_traffic', 'desktop_traffic', 'all_traffic']]\n"
   ]
  },
  {
   "cell_type": "markdown",
   "id": "300fc893",
   "metadata": {},
   "source": [
    "**Plotting Data**\n",
    "\n",
    "The steps to plot the data and clean up the results are listed below. I combined the steps into a single cell to run since the code to clean and process the results are all tied to the one graph.  \n",
    "\n",
    "A ) **Plot the Data** <br>\n",
    "Plot the data using the pandas *plot( )* function. Here, we specify the x-label as the 'year-month' field. <br>\n",
    "\n",
    "B ) **Restructure the x-axis labels** <br>\n",
    "Restructure the x-axis labels by adding missing/skipped tick marks and labels as well as rotating the labels by 90 degrees to make it fit to the visualization better.<br>\n",
    "\n",
    "The following documentation provided by matplotlib was used as reference:<br>\n",
    "https://matplotlib.org/stable/api/_as_gen/matplotlib.pyplot.xticks.html\n",
    "\n",
    "C ) **Shift the Legend Position** <br>\n",
    "Since the legend placement was defaulted inside the graph, I opted to shift the position so that it would not cover any important parts of the main plot.<br>\n",
    "\n",
    "D ) **Add Axis Labels** <br>\n",
    "As per the standard for a good and clear visualization, I added x-axis and y-axis labels to provide readers with better context and understanding of our visualization. <br>\n",
    "\n",
    "E ) **Add a Title** <br>\n",
    "As per the standard for a good and clear visualization, I added a title to the chart for the readers to understand the purpose of the plot. <br>\n",
    "\n",
    "F ) **Save as a PNG** <br>\n",
    "I saved the graph to a PNG file for reference. \n",
    "\n",
    "G ) **Display Visualization** <br>\n",
    "To verify if the results are what I expected, I used plt.show( ) to display the final graph. "
   ]
  },
  {
   "cell_type": "code",
   "execution_count": 20,
   "id": "e37e495f",
   "metadata": {},
   "outputs": [
    {
     "data": {
      "image/png": "[encoded data removed]",
      "text/plain": [
       "<Figure size 432x288 with 1 Axes>"
      ]
     },
     "metadata": {
      "needs_background": "light"
     },
     "output_type": "display_data"
    }
   ],
   "source": [
    "# A) Plot the Data\n",
    "\n",
    "df_pivot.plot(x = 'year-month')\n",
    "\n",
    "# B) Restructure the x-axis by rotating the labels and adding additional tick marks\n",
    "\n",
    "plt.xticks(ticks = range(0,len(df_pivot['year-month'])), labels = df_pivot['year-month'],  rotation=90)\n",
    "\n",
    "# C) Shift the Legend Position\n",
    "\n",
    "plt.legend(bbox_to_anchor=(1, 1))\n",
    "\n",
    "# D) Add x-axis and y-axis labels\n",
    "plt.xlabel(\"Year & Month\")\n",
    "plt.ylabel(\"Traffic Data in 10 billions\")\n",
    "\n",
    "# E) Add a title\n",
    "\n",
    "plt.title(\"Mobile & Desktop Wikipedia Site Traffic by Month & Year\")\n",
    "\n",
    "# F) Save the figure as a png\n",
    "\n",
    "plt.savefig('data_512_a1.png', bbox_inches='tight')\n",
    "\n",
    "# G) Display the plot to verify results\n",
    "\n",
    "plt.show()"
   ]
  },
  {
   "cell_type": "code",
   "execution_count": null,
   "id": "8d2ab9c5",
   "metadata": {},
   "outputs": [],
   "source": []
  },
  {
   "cell_type": "code",
   "execution_count": null,
   "id": "47e9d90e",
   "metadata": {},
   "outputs": [],
   "source": []
  }
 ],
 "metadata": {
  "kernelspec": {
   "display_name": "Python 3",
   "language": "python",
   "name": "python3"
  },
  "language_info": {
   "codemirror_mode": {
    "name": "ipython",
    "version": 3
   },
   "file_extension": ".py",
   "mimetype": "text/x-python",
   "name": "python",
   "nbconvert_exporter": "python",
   "pygments_lexer": "ipython3",
   "version": "3.8.8"
  }
 },
 "nbformat": 4,
 "nbformat_minor": 5
}
